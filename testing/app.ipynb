{
 "cells": [
  {
   "cell_type": "code",
   "execution_count": null,
   "metadata": {},
   "outputs": [
    {
     "ename": "",
     "evalue": "",
     "output_type": "error",
     "traceback": [
      "\u001b[1;31mRunning cells with 'c:\\Users\\Aryan\\AppData\\Local\\Programs\\Python\\Python310\\python.exe' requires the ipykernel package.\n",
      "\u001b[1;31mRun the following command to install 'ipykernel' into the Python environment. \n",
      "\u001b[1;31mCommand: 'c:/Users/Aryan/AppData/Local/Programs/Python/Python310/python.exe -m pip install ipykernel -U --user --force-reinstall'"
     ]
    }
   ],
   "source": [
    "import mysql.connector\n",
    "import json\n",
    "import pandas as pd\n",
    "import nltk\n",
    "from nltk.sentiment.vader import SentimentIntensityAnalyzer\n",
    "sid = SentimentIntensityAnalyzer()\n",
    "# Load database configuration from a JSON file\n",
    "with open(\"config.json\", \"r\") as f:\n",
    "    config = json.load(f)"
   ]
  },
  {
   "cell_type": "code",
   "execution_count": 16,
   "metadata": {},
   "outputs": [],
   "source": [
    "# Create a database connection\n",
    "cnx = mysql.connector.connect(\n",
    "    host=\"localhost\",  # Update with your host\n",
    "    user=config[\"username\"],\n",
    "    password=config[\"password\"],\n",
    "    database=\"project\"\n",
    ")\n",
    "# Create a cursor object to execute SQL queries\n",
    "cursor = cnx.cursor()\n"
   ]
  },
  {
   "cell_type": "code",
   "execution_count": 3,
   "metadata": {},
   "outputs": [
    {
     "name": "stdout",
     "output_type": "stream",
     "text": [
      "    ORG   Location\n",
      "0  Org1  Location1\n",
      "1  Org2  Location2\n",
      "2  Org3  Location3\n",
      "3  Org4  Location4\n",
      "4  Org5  Location5\n"
     ]
    }
   ],
   "source": [
    "# Execute the first query and fetch the results\n",
    "query1 = \"SELECT Name, Location FROM Organization;\"\n",
    "cursor.execute(query1)\n",
    "results1 = cursor.fetchall()\n",
    "df=pd.DataFrame(results1,columns=[\"ORG\",\"Location\"])\n",
    "print(df.head())"
   ]
  },
  {
   "cell_type": "code",
   "execution_count": 4,
   "metadata": {},
   "outputs": [
    {
     "name": "stdout",
     "output_type": "stream",
     "text": [
      "1:{'neg': 0.0, 'neu': 1.0, 'pos': 0.0, 'compound': 0.0}\n",
      "2:{'neg': 0.0, 'neu': 1.0, 'pos': 0.0, 'compound': 0.0}\n",
      "3:{'neg': 0.0, 'neu': 1.0, 'pos': 0.0, 'compound': 0.0}\n",
      "4:{'neg': 0.0, 'neu': 1.0, 'pos': 0.0, 'compound': 0.0}\n",
      "5:{'neg': 0.0, 'neu': 1.0, 'pos': 0.0, 'compound': 0.0}\n",
      "6:{'neg': 0.513, 'neu': 0.487, 'pos': 0.0, 'compound': -0.2755}\n"
     ]
    }
   ],
   "source": [
    "query2 = \"SELECT CommentID,Content,UserID,PostID FROM Comment;\"\n",
    "cursor.execute(query2)\n",
    "results2 = cursor.fetchall()\n",
    "df=pd.DataFrame(results2,columns=[\"CommentID\",\"Content\",\"UserID\",\"PostID\"])\n",
    "for i in range(len(df)):\n",
    "    c_id=df[\"CommentID\"][i]\n",
    "    scores=sid.polarity_scores(df[\"Content\"][i])\n",
    "    print(f\"{c_id}:{scores}\")\n"
   ]
  },
  {
   "cell_type": "code",
   "execution_count": 7,
   "metadata": {},
   "outputs": [
    {
     "name": "stdout",
     "output_type": "stream",
     "text": [
      "[(1, 'User1', 'user1@example.com', 'voter', 'password1', None), (2, 'User2', 'user2@example.com', 'voter', 'password2', None), (3, 'User3', 'user3@example.com', 'representative', 'password3', 1), (4, 'User4', 'user4@example.com', 'voter', 'password4', None), (5, 'User5', 'user5@example.com', 'representative', 'password5', 2)]\n"
     ]
    }
   ],
   "source": [
    "query2 = \"SELECT * FROM User;\"\n",
    "cursor.execute(query2)\n",
    "results2 = cursor.fetchall()\n",
    "print(results2)"
   ]
  },
  {
   "cell_type": "code",
   "execution_count": 12,
   "metadata": {},
   "outputs": [],
   "source": [
    "def get_user_by_email(email):\n",
    "    query = f\"SELECT * FROM User WHERE Email = '{email}'\"\n",
    "    cursor.execute(query)\n",
    "    result = cursor.fetchall()\n",
    "    return result"
   ]
  },
  {
   "cell_type": "code",
   "execution_count": 15,
   "metadata": {},
   "outputs": [
    {
     "data": {
      "text/plain": [
       "1"
      ]
     },
     "execution_count": 15,
     "metadata": {},
     "output_type": "execute_result"
    }
   ],
   "source": [
    "len(get_user_by_email(\"user1@example.com\"))"
   ]
  },
  {
   "cell_type": "code",
   "execution_count": 16,
   "metadata": {},
   "outputs": [
    {
     "data": {
      "text/plain": [
       "0"
      ]
     },
     "execution_count": 16,
     "metadata": {},
     "output_type": "execute_result"
    }
   ],
   "source": [
    "len(get_user_by_email(\"atharva@example.com\"))"
   ]
  },
  {
   "cell_type": "code",
   "execution_count": 23,
   "metadata": {},
   "outputs": [
    {
     "data": {
      "text/plain": [
       "(1, 'User1', 'user1@example.com', 'voter', 'password1', None)"
      ]
     },
     "execution_count": 23,
     "metadata": {},
     "output_type": "execute_result"
    }
   ],
   "source": [
    "user=get_user_by_email(\"user1@example.com\")\n",
    "user[0]"
   ]
  },
  {
   "cell_type": "code",
   "execution_count": 5,
   "metadata": {},
   "outputs": [
    {
     "data": {
      "text/plain": [
       "2"
      ]
     },
     "execution_count": 5,
     "metadata": {},
     "output_type": "execute_result"
    }
   ],
   "source": [
    "query=\"SELECT OrganizationID FROM Organization where Name='Org2'\"\n",
    "cursor.execute(query)\n",
    "result = cursor.fetchall()\n",
    "result[0][0]"
   ]
  },
  {
   "cell_type": "code",
   "execution_count": 6,
   "metadata": {},
   "outputs": [
    {
     "data": {
      "text/plain": [
       "[(1, 'User1', 'user1@example.com', 'voter', 'password1', None),\n",
       " (2, 'User2', 'user2@example.com', 'voter', 'password2', None),\n",
       " (3, 'User3', 'user3@example.com', 'representative', 'password3', 1),\n",
       " (4, 'User4', 'user4@example.com', 'voter', 'password4', None),\n",
       " (5, 'User5', 'user5@example.com', 'representative', 'password5', 2),\n",
       " (6,\n",
       "  'user1',\n",
       "  'user1@gmail.com',\n",
       "  'voter',\n",
       "  '$2b$12$hxFBzK0HOFGyA8jGWl2VhOeb7aItlggC/Kz7rrhNyUPSP0Jq2ZRCm',\n",
       "  3),\n",
       " (7,\n",
       "  'atharvaam21',\n",
       "  'atharvaam21@outlook.com',\n",
       "  'voter',\n",
       "  '$2b$12$OOrU1x9Jr8Cttgl9z0YBO.xZz/wBa7dM8i7SWPFel24/k0.OABTF2',\n",
       "  3),\n",
       " (8,\n",
       "  'amaan',\n",
       "  'amaan@coep.com',\n",
       "  'representative',\n",
       "  '$2b$12$91Wg8YtDJqRtxptOidZsCeqbJLCNg/WjOi.HUu6Fqz2X4SWB6VV3G',\n",
       "  3),\n",
       " (9,\n",
       "  'thakre',\n",
       "  'thakre@thakre.com',\n",
       "  'voter',\n",
       "  '$2b$12$KemNCt9VRvr.vw6M.FMyDOgFJUUJDdyqkbcxU.pCXhn46Hm4GNmy6',\n",
       "  3)]"
      ]
     },
     "execution_count": 6,
     "metadata": {},
     "output_type": "execute_result"
    }
   ],
   "source": [
    "query = f\"SELECT * FROM User\"\n",
    "cursor.execute(query)\n",
    "result = cursor.fetchall()\n",
    "result"
   ]
  },
  {
   "cell_type": "code",
   "execution_count": 3,
   "metadata": {},
   "outputs": [
    {
     "data": {
      "text/plain": [
       "[(1,\n",
       "  'Post1',\n",
       "  'Description1',\n",
       "  datetime.datetime(2023, 11, 2, 9, 26, 24),\n",
       "  'in progress',\n",
       "  'environment',\n",
       "  1,\n",
       "  11,\n",
       "  4,\n",
       "  None,\n",
       "  'issue'),\n",
       " (2,\n",
       "  'Post2',\n",
       "  'Description2',\n",
       "  datetime.datetime(2023, 11, 2, 9, 26, 24),\n",
       "  'in progress',\n",
       "  'social',\n",
       "  2,\n",
       "  16,\n",
       "  4,\n",
       "  None,\n",
       "  'issue'),\n",
       " (3,\n",
       "  'Post3',\n",
       "  'Description3',\n",
       "  datetime.datetime(2023, 11, 2, 9, 26, 24),\n",
       "  'in progress',\n",
       "  'environment',\n",
       "  3,\n",
       "  6,\n",
       "  1,\n",
       "  1,\n",
       "  'issue'),\n",
       " (4,\n",
       "  'Post4',\n",
       "  'Description4',\n",
       "  datetime.datetime(2023, 11, 2, 9, 26, 24),\n",
       "  'in progress',\n",
       "  'governance',\n",
       "  4,\n",
       "  8,\n",
       "  0,\n",
       "  None,\n",
       "  'issue'),\n",
       " (5,\n",
       "  'Post5',\n",
       "  'Description5',\n",
       "  datetime.datetime(2023, 11, 2, 9, 26, 24),\n",
       "  'in progress',\n",
       "  'environment',\n",
       "  5,\n",
       "  12,\n",
       "  4,\n",
       "  2,\n",
       "  'issue'),\n",
       " (6,\n",
       "  'tHIS is a Title (i am drunk)',\n",
       "  'Description1',\n",
       "  datetime.datetime(2023, 11, 2, 9, 31, 35),\n",
       "  'in progress',\n",
       "  'environment',\n",
       "  3,\n",
       "  10,\n",
       "  2,\n",
       "  None,\n",
       "  'issue')]"
      ]
     },
     "execution_count": 3,
     "metadata": {},
     "output_type": "execute_result"
    }
   ],
   "source": [
    "query = f\"SELECT * FROM Post\"\n",
    "cursor.execute(query)\n",
    "result = cursor.fetchall()\n",
    "result"
   ]
  },
  {
   "cell_type": "code",
   "execution_count": 23,
   "metadata": {},
   "outputs": [],
   "source": [
    "def get_posts():\n",
    "    query = f\"SELECT Post.*,Name FROM Post join User using(UserID);\"\n",
    "    cursor.execute(query)\n",
    "    result = cursor.fetchall()\n",
    "    posts_df=pd.DataFrame(result,columns=[\"PostID\",\"Title\",\"Description\",\"CreatedAtDate\",\"Status\",\"Topic\",\"UserID\",\"Upvotes\",\"Downvotes\",\"OrganizationID\",\"PostedBy\"])\n",
    "    return posts_df"
   ]
  },
  {
   "cell_type": "code",
   "execution_count": 24,
   "metadata": {},
   "outputs": [
    {
     "data": {
      "text/html": [
       "<div>\n",
       "<style scoped>\n",
       "    .dataframe tbody tr th:only-of-type {\n",
       "        vertical-align: middle;\n",
       "    }\n",
       "\n",
       "    .dataframe tbody tr th {\n",
       "        vertical-align: top;\n",
       "    }\n",
       "\n",
       "    .dataframe thead th {\n",
       "        text-align: right;\n",
       "    }\n",
       "</style>\n",
       "<table border=\"1\" class=\"dataframe\">\n",
       "  <thead>\n",
       "    <tr style=\"text-align: right;\">\n",
       "      <th></th>\n",
       "      <th>PostID</th>\n",
       "      <th>Title</th>\n",
       "      <th>Description</th>\n",
       "      <th>CreatedAtDate</th>\n",
       "      <th>Status</th>\n",
       "      <th>Topic</th>\n",
       "      <th>UserID</th>\n",
       "      <th>Upvotes</th>\n",
       "      <th>Downvotes</th>\n",
       "      <th>OrganizationID</th>\n",
       "      <th>PostedBy</th>\n",
       "    </tr>\n",
       "  </thead>\n",
       "  <tbody>\n",
       "    <tr>\n",
       "      <th>0</th>\n",
       "      <td>1</td>\n",
       "      <td>Post1</td>\n",
       "      <td>Description1</td>\n",
       "      <td>2023-11-02 09:26:24</td>\n",
       "      <td>in progress</td>\n",
       "      <td>environment</td>\n",
       "      <td>1</td>\n",
       "      <td>10</td>\n",
       "      <td>2</td>\n",
       "      <td>NaN</td>\n",
       "      <td>User1</td>\n",
       "    </tr>\n",
       "    <tr>\n",
       "      <th>1</th>\n",
       "      <td>2</td>\n",
       "      <td>Post2</td>\n",
       "      <td>Description2</td>\n",
       "      <td>2023-11-02 09:26:24</td>\n",
       "      <td>in progress</td>\n",
       "      <td>social</td>\n",
       "      <td>2</td>\n",
       "      <td>15</td>\n",
       "      <td>3</td>\n",
       "      <td>NaN</td>\n",
       "      <td>User2</td>\n",
       "    </tr>\n",
       "    <tr>\n",
       "      <th>2</th>\n",
       "      <td>3</td>\n",
       "      <td>Post3</td>\n",
       "      <td>Description3</td>\n",
       "      <td>2023-11-02 09:26:24</td>\n",
       "      <td>in progress</td>\n",
       "      <td>environment</td>\n",
       "      <td>3</td>\n",
       "      <td>5</td>\n",
       "      <td>1</td>\n",
       "      <td>1.0</td>\n",
       "      <td>User3</td>\n",
       "    </tr>\n",
       "    <tr>\n",
       "      <th>3</th>\n",
       "      <td>4</td>\n",
       "      <td>Post4</td>\n",
       "      <td>Description4</td>\n",
       "      <td>2023-11-02 09:26:24</td>\n",
       "      <td>in progress</td>\n",
       "      <td>governance</td>\n",
       "      <td>4</td>\n",
       "      <td>8</td>\n",
       "      <td>0</td>\n",
       "      <td>NaN</td>\n",
       "      <td>User4</td>\n",
       "    </tr>\n",
       "    <tr>\n",
       "      <th>4</th>\n",
       "      <td>5</td>\n",
       "      <td>Post5</td>\n",
       "      <td>Description5</td>\n",
       "      <td>2023-11-02 09:26:24</td>\n",
       "      <td>in progress</td>\n",
       "      <td>environment</td>\n",
       "      <td>5</td>\n",
       "      <td>12</td>\n",
       "      <td>4</td>\n",
       "      <td>2.0</td>\n",
       "      <td>User5</td>\n",
       "    </tr>\n",
       "    <tr>\n",
       "      <th>5</th>\n",
       "      <td>6</td>\n",
       "      <td>tHIS is a Title (i am drunk)</td>\n",
       "      <td>Description1</td>\n",
       "      <td>2023-11-02 09:31:35</td>\n",
       "      <td>in progress</td>\n",
       "      <td>environment</td>\n",
       "      <td>3</td>\n",
       "      <td>10</td>\n",
       "      <td>2</td>\n",
       "      <td>NaN</td>\n",
       "      <td>User3</td>\n",
       "    </tr>\n",
       "  </tbody>\n",
       "</table>\n",
       "</div>"
      ],
      "text/plain": [
       "   PostID                         Title   Description       CreatedAtDate  \\\n",
       "0       1                         Post1  Description1 2023-11-02 09:26:24   \n",
       "1       2                         Post2  Description2 2023-11-02 09:26:24   \n",
       "2       3                         Post3  Description3 2023-11-02 09:26:24   \n",
       "3       4                         Post4  Description4 2023-11-02 09:26:24   \n",
       "4       5                         Post5  Description5 2023-11-02 09:26:24   \n",
       "5       6  tHIS is a Title (i am drunk)  Description1 2023-11-02 09:31:35   \n",
       "\n",
       "        Status        Topic  UserID  Upvotes  Downvotes  OrganizationID  \\\n",
       "0  in progress  environment       1       10          2             NaN   \n",
       "1  in progress       social       2       15          3             NaN   \n",
       "2  in progress  environment       3        5          1             1.0   \n",
       "3  in progress   governance       4        8          0             NaN   \n",
       "4  in progress  environment       5       12          4             2.0   \n",
       "5  in progress  environment       3       10          2             NaN   \n",
       "\n",
       "  PostedBy  \n",
       "0    User1  \n",
       "1    User2  \n",
       "2    User3  \n",
       "3    User4  \n",
       "4    User5  \n",
       "5    User3  "
      ]
     },
     "execution_count": 24,
     "metadata": {},
     "output_type": "execute_result"
    }
   ],
   "source": [
    "get_posts()"
   ]
  },
  {
   "cell_type": "markdown",
   "metadata": {},
   "source": [
    "# Handling Voting"
   ]
  },
  {
   "cell_type": "code",
   "execution_count": 3,
   "metadata": {},
   "outputs": [],
   "source": [
    "def has_user_upvoted(user_id, post_id):\n",
    "    # Check if the user has upvoted the post\n",
    "    query = f\"SELECT VoteType FROM UserVotes WHERE UserID = {user_id} AND PostID = {post_id}\"\n",
    "    cursor.execute(query)\n",
    "    result = cursor.fetchall()\n",
    "\n",
    "    if len(result) > 0:\n",
    "        votetype=result[0][0]\n",
    "        if votetype=='downvote':\n",
    "            # User has upvoted, handle downvoting logic\n",
    "            # First, remove the previous upvote from the votes table\n",
    "            delete_query = f\"DELETE FROM UserVotes WHERE UserID = {user_id} AND PostID = {post_id};\"\n",
    "            cursor.execute(delete_query)\n",
    "            cnx.commit()\n",
    "\n",
    "            # Next, update the upvotes and downvotes in the posts table\n",
    "            update_query = f\"UPDATE Post SET Downvotes = Downvotes - 1 WHERE PostID = {post_id}\"\n",
    "            cursor.execute(update_query)\n",
    "            cnx.commit()\n",
    "            return False  # User has downvoted after the previous upvote\n",
    "        else:\n",
    "            return True\n",
    "    else:\n",
    "        return False  # User has not upvoted the post, they can upvote it\n"
   ]
  },
  {
   "cell_type": "code",
   "execution_count": 5,
   "metadata": {},
   "outputs": [],
   "source": [
    "def insert_upvote(user_id, post_id):\n",
    "    query = f\"INSERT INTO UserVotes (UserID, PostID, VoteType) VALUES ({user_id}, {post_id}, 'upvote')\"\n",
    "    cursor.execute(query)\n",
    "    cnx.commit()\n",
    "    update_query = f\"UPDATE Post SET Upvotes = Upvotes + 1 WHERE PostID = {post_id}\"\n",
    "    cursor.execute(update_query)\n",
    "    cnx.commit()\n"
   ]
  },
  {
   "cell_type": "code",
   "execution_count": 9,
   "metadata": {},
   "outputs": [],
   "source": [
    "if not has_user_upvoted(1,1):\n",
    "    insert_upvote(1,1)"
   ]
  },
  {
   "cell_type": "code",
   "execution_count": 10,
   "metadata": {},
   "outputs": [
    {
     "name": "stdout",
     "output_type": "stream",
     "text": [
      "[(1, 1, 1, 'upvote', datetime.datetime(2023, 11, 4, 6, 6, 15), 11, 2)]\n"
     ]
    }
   ],
   "source": [
    "query=\"SELECT UserVotes.*,Upvotes,Downvotes FROM UserVotes join Post using(PostID)\"\n",
    "cursor.execute(query)\n",
    "result=cursor.fetchall()\n",
    "print(result)"
   ]
  },
  {
   "cell_type": "code",
   "execution_count": null,
   "metadata": {},
   "outputs": [],
   "source": [
    "def has_user_downvoted(user_id, post_id):\n",
    "    # Check if the user has upvoted the post\n",
    "    query = f\"SELECT VoteType FROM UserVotes WHERE UserID = {user_id} AND PostID = {post_id} AND VoteType = 'upvote'\"\n",
    "    cursor.execute(query)\n",
    "    result = cursor.fetchall()\n",
    "\n",
    "    if len(result) > 0:\n",
    "        votetype=result[0][0]\n",
    "        if votetype=='downvote':\n",
    "            # User has upvoted, handle downvoting logic\n",
    "            # First, remove the previous upvote from the votes table\n",
    "            delete_query = f\"DELETE FROM UserVotes WHERE UserID = {user_id} AND PostID = {post_id};\"\n",
    "            cursor.execute(delete_query)\n",
    "            cnx.commit()\n",
    "\n",
    "            # Next, update the upvotes and downvotes in the posts table\n",
    "            update_query = f\"UPDATE Post SET Downvotes = Downvotes - 1 WHERE PostID = {post_id}\"\n",
    "            cursor.execute(update_query)\n",
    "            cnx.commit()\n",
    "            return False  # User has downvoted after the previous upvote\n",
    "        else:\n",
    "            return True\n",
    "    else:\n",
    "        return False  # User has not upvoted the post, they can upvote it\n"
   ]
  },
  {
   "cell_type": "markdown",
   "metadata": {},
   "source": [
    "# How to get a User's OrgID"
   ]
  },
  {
   "cell_type": "code",
   "execution_count": 11,
   "metadata": {},
   "outputs": [
    {
     "name": "stdout",
     "output_type": "stream",
     "text": [
      "[(None,)]\n"
     ]
    }
   ],
   "source": [
    "query=f\"SELECT OrganizationID from User where UserID=1\"\n",
    "cursor.execute(query)\n",
    "result=cursor.fetchall()\n",
    "print(result)"
   ]
  },
  {
   "cell_type": "markdown",
   "metadata": {},
   "source": [
    "# Analytics time"
   ]
  },
  {
   "cell_type": "code",
   "execution_count": 1,
   "metadata": {},
   "outputs": [],
   "source": [
    "import matplotlib.pyplot as plt\n"
   ]
  },
  {
   "cell_type": "code",
   "execution_count": 35,
   "metadata": {},
   "outputs": [],
   "source": [
    "def get_sentiment_analytics(post_id):\n",
    "    q=f\"SELECT * from Comment WHERE PostID={post_id};\"\n",
    "    cursor.execute(q)\n",
    "    result=cursor.fetchall()\n",
    "    comment_df=pd.DataFrame(result,columns=[\"CommentID\",\"Content\",\"CreatedAtDate\",\"UserID\",\"PostID\"])\n",
    "    comments=comment_df[\"Content\"]\n",
    "    sentiments=[]\n",
    "    for comment in comments:\n",
    "        sentiment_scores = sid.polarity_scores(comment)\n",
    "        compound_score = sentiment_scores['compound']\n",
    "        sentiments.append(compound_score)\n",
    "    comment_df['CompoundScore'] = sentiments\n",
    "\n",
    "    # Categorize comments as positive, negative, or neutral\n",
    "    comment_df['SentimentLabel'] = 'neutral'\n",
    "    comment_df.loc[comment_df['CompoundScore'] > 0.05, 'SentimentLabel'] = 'positive'\n",
    "    comment_df.loc[comment_df['CompoundScore'] < -0.05, 'SentimentLabel'] = 'negative'\n",
    "    return comment_df\n"
   ]
  },
  {
   "cell_type": "code",
   "execution_count": 37,
   "metadata": {},
   "outputs": [],
   "source": [
    "senti_anal=get_sentiment_analytics(1)"
   ]
  },
  {
   "cell_type": "code",
   "execution_count": 42,
   "metadata": {},
   "outputs": [
    {
     "data": {
      "text/plain": [
       "Index(['neutral', 'positive'], dtype='object')"
      ]
     },
     "execution_count": 42,
     "metadata": {},
     "output_type": "execute_result"
    }
   ],
   "source": [
    "senti_anal['SentimentLabel'].value_counts().index"
   ]
  },
  {
   "cell_type": "code",
   "execution_count": 45,
   "metadata": {},
   "outputs": [
    {
     "data": {
      "text/plain": [
       "array([4, 1], dtype=int64)"
      ]
     },
     "execution_count": 45,
     "metadata": {},
     "output_type": "execute_result"
    }
   ],
   "source": [
    "senti_anal['SentimentLabel'].value_counts().values"
   ]
  },
  {
   "cell_type": "code",
   "execution_count": 44,
   "metadata": {},
   "outputs": [
    {
     "data": {
      "text/plain": [
       "(array([2., 1., 1., 0.]),\n",
       " DatetimeIndex(['2023-11-02 09:26:24', '2023-11-04 08:32:18',\n",
       "                '2023-11-04 08:51:24', '2023-11-04 09:02:50'],\n",
       "               dtype='datetime64[ns]', name='CreatedAtDate', freq=None))"
      ]
     },
     "execution_count": 44,
     "metadata": {},
     "output_type": "execute_result"
    }
   ],
   "source": [
    "grouped = senti_anal.groupby(['CreatedAtDate', 'SentimentLabel']).size().unstack().fillna(0)\n",
    "grouped['neutral'].values,grouped.index"
   ]
  },
  {
   "cell_type": "code",
   "execution_count": null,
   "metadata": {},
   "outputs": [],
   "source": []
  }
 ],
 "metadata": {
  "kernelspec": {
   "display_name": "Python 3",
   "language": "python",
   "name": "python3"
  },
  "language_info": {
   "codemirror_mode": {
    "name": "ipython",
    "version": 3
   },
   "file_extension": ".py",
   "mimetype": "text/x-python",
   "name": "python",
   "nbconvert_exporter": "python",
   "pygments_lexer": "ipython3",
   "version": "3.10.1"
  }
 },
 "nbformat": 4,
 "nbformat_minor": 2
}
