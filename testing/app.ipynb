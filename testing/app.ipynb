{
 "cells": [
  {
   "cell_type": "code",
   "execution_count": 1,
   "metadata": {},
   "outputs": [],
   "source": [
    "import mysql.connector\n",
    "import json\n",
    "import pandas as pd\n",
    "import nltk\n",
    "from nltk.sentiment.vader import SentimentIntensityAnalyzer\n",
    "sid = SentimentIntensityAnalyzer()\n",
    "# Load database configuration from a JSON file\n",
    "with open(\"config.json\", \"r\") as f:\n",
    "    config = json.load(f)"
   ]
  },
  {
   "cell_type": "code",
   "execution_count": 2,
   "metadata": {},
   "outputs": [],
   "source": [
    "# Create a database connection\n",
    "cnx = mysql.connector.connect(\n",
    "    host=\"localhost\",  # Update with your host\n",
    "    user=config[\"username\"],\n",
    "    password=config[\"password\"],\n",
    "    database=\"project\"\n",
    ")\n",
    "# Create a cursor object to execute SQL queries\n",
    "cursor = cnx.cursor()\n"
   ]
  },
  {
   "cell_type": "code",
   "execution_count": 3,
   "metadata": {},
   "outputs": [
    {
     "name": "stdout",
     "output_type": "stream",
     "text": [
      "    ORG   Location\n",
      "0  Org1  Location1\n",
      "1  Org2  Location2\n",
      "2  Org3  Location3\n",
      "3  Org4  Location4\n",
      "4  Org5  Location5\n"
     ]
    }
   ],
   "source": [
    "# Execute the first query and fetch the results\n",
    "query1 = \"SELECT Name, Location FROM Organization;\"\n",
    "cursor.execute(query1)\n",
    "results1 = cursor.fetchall()\n",
    "df=pd.DataFrame(results1,columns=[\"ORG\",\"Location\"])\n",
    "print(df.head())"
   ]
  },
  {
   "cell_type": "code",
   "execution_count": 4,
   "metadata": {},
   "outputs": [
    {
     "name": "stdout",
     "output_type": "stream",
     "text": [
      "1:{'neg': 0.0, 'neu': 1.0, 'pos': 0.0, 'compound': 0.0}\n",
      "2:{'neg': 0.0, 'neu': 1.0, 'pos': 0.0, 'compound': 0.0}\n",
      "3:{'neg': 0.0, 'neu': 1.0, 'pos': 0.0, 'compound': 0.0}\n",
      "4:{'neg': 0.0, 'neu': 1.0, 'pos': 0.0, 'compound': 0.0}\n",
      "5:{'neg': 0.0, 'neu': 1.0, 'pos': 0.0, 'compound': 0.0}\n",
      "6:{'neg': 0.513, 'neu': 0.487, 'pos': 0.0, 'compound': -0.2755}\n"
     ]
    }
   ],
   "source": [
    "query2 = \"SELECT CommentID,Content,UserID,PostID FROM Comment;\"\n",
    "cursor.execute(query2)\n",
    "results2 = cursor.fetchall()\n",
    "df=pd.DataFrame(results2,columns=[\"CommentID\",\"Content\",\"UserID\",\"PostID\"])\n",
    "for i in range(len(df)):\n",
    "    c_id=df[\"CommentID\"][i]\n",
    "    scores=sid.polarity_scores(df[\"Content\"][i])\n",
    "    print(f\"{c_id}:{scores}\")\n"
   ]
  },
  {
   "cell_type": "code",
   "execution_count": 7,
   "metadata": {},
   "outputs": [
    {
     "name": "stdout",
     "output_type": "stream",
     "text": [
      "[(1, 'User1', 'user1@example.com', 'voter', 'password1', None), (2, 'User2', 'user2@example.com', 'voter', 'password2', None), (3, 'User3', 'user3@example.com', 'representative', 'password3', 1), (4, 'User4', 'user4@example.com', 'voter', 'password4', None), (5, 'User5', 'user5@example.com', 'representative', 'password5', 2)]\n"
     ]
    }
   ],
   "source": [
    "query2 = \"SELECT * FROM User;\"\n",
    "cursor.execute(query2)\n",
    "results2 = cursor.fetchall()\n",
    "print(results2)"
   ]
  },
  {
   "cell_type": "code",
   "execution_count": 12,
   "metadata": {},
   "outputs": [],
   "source": [
    "def get_user_by_email(email):\n",
    "    query = f\"SELECT * FROM User WHERE Email = '{email}'\"\n",
    "    cursor.execute(query)\n",
    "    result = cursor.fetchall()\n",
    "    return result"
   ]
  },
  {
   "cell_type": "code",
   "execution_count": 15,
   "metadata": {},
   "outputs": [
    {
     "data": {
      "text/plain": [
       "1"
      ]
     },
     "execution_count": 15,
     "metadata": {},
     "output_type": "execute_result"
    }
   ],
   "source": [
    "len(get_user_by_email(\"user1@example.com\"))"
   ]
  },
  {
   "cell_type": "code",
   "execution_count": 16,
   "metadata": {},
   "outputs": [
    {
     "data": {
      "text/plain": [
       "0"
      ]
     },
     "execution_count": 16,
     "metadata": {},
     "output_type": "execute_result"
    }
   ],
   "source": [
    "len(get_user_by_email(\"atharva@example.com\"))"
   ]
  },
  {
   "cell_type": "code",
   "execution_count": 23,
   "metadata": {},
   "outputs": [
    {
     "data": {
      "text/plain": [
       "(1, 'User1', 'user1@example.com', 'voter', 'password1', None)"
      ]
     },
     "execution_count": 23,
     "metadata": {},
     "output_type": "execute_result"
    }
   ],
   "source": [
    "user=get_user_by_email(\"user1@example.com\")\n",
    "user[0]"
   ]
  },
  {
   "cell_type": "code",
   "execution_count": 5,
   "metadata": {},
   "outputs": [
    {
     "data": {
      "text/plain": [
       "2"
      ]
     },
     "execution_count": 5,
     "metadata": {},
     "output_type": "execute_result"
    }
   ],
   "source": [
    "query=\"SELECT OrganizationID FROM Organization where Name='Org2'\"\n",
    "cursor.execute(query)\n",
    "result = cursor.fetchall()\n",
    "result[0][0]"
   ]
  },
  {
   "cell_type": "code",
   "execution_count": 6,
   "metadata": {},
   "outputs": [
    {
     "data": {
      "text/plain": [
       "[(1, 'User1', 'user1@example.com', 'voter', 'password1', None),\n",
       " (2, 'User2', 'user2@example.com', 'voter', 'password2', None),\n",
       " (3, 'User3', 'user3@example.com', 'representative', 'password3', 1),\n",
       " (4, 'User4', 'user4@example.com', 'voter', 'password4', None),\n",
       " (5, 'User5', 'user5@example.com', 'representative', 'password5', 2),\n",
       " (6,\n",
       "  'user1',\n",
       "  'user1@gmail.com',\n",
       "  'voter',\n",
       "  '$2b$12$hxFBzK0HOFGyA8jGWl2VhOeb7aItlggC/Kz7rrhNyUPSP0Jq2ZRCm',\n",
       "  3),\n",
       " (7,\n",
       "  'atharvaam21',\n",
       "  'atharvaam21@outlook.com',\n",
       "  'voter',\n",
       "  '$2b$12$OOrU1x9Jr8Cttgl9z0YBO.xZz/wBa7dM8i7SWPFel24/k0.OABTF2',\n",
       "  3),\n",
       " (8,\n",
       "  'amaan',\n",
       "  'amaan@coep.com',\n",
       "  'representative',\n",
       "  '$2b$12$91Wg8YtDJqRtxptOidZsCeqbJLCNg/WjOi.HUu6Fqz2X4SWB6VV3G',\n",
       "  3),\n",
       " (9,\n",
       "  'thakre',\n",
       "  'thakre@thakre.com',\n",
       "  'voter',\n",
       "  '$2b$12$KemNCt9VRvr.vw6M.FMyDOgFJUUJDdyqkbcxU.pCXhn46Hm4GNmy6',\n",
       "  3)]"
      ]
     },
     "execution_count": 6,
     "metadata": {},
     "output_type": "execute_result"
    }
   ],
   "source": [
    "query = f\"SELECT * FROM User\"\n",
    "cursor.execute(query)\n",
    "result = cursor.fetchall()\n",
    "result"
   ]
  },
  {
   "cell_type": "code",
   "execution_count": 4,
   "metadata": {},
   "outputs": [
    {
     "data": {
      "text/plain": [
       "[(1,\n",
       "  'Post1',\n",
       "  'Description1',\n",
       "  datetime.datetime(2023, 11, 2, 9, 26, 24),\n",
       "  'in progress',\n",
       "  'environment',\n",
       "  1,\n",
       "  13,\n",
       "  3,\n",
       "  None,\n",
       "  'issue'),\n",
       " (2,\n",
       "  'Post2',\n",
       "  'Description2',\n",
       "  datetime.datetime(2023, 11, 2, 9, 26, 24),\n",
       "  'in progress',\n",
       "  'social',\n",
       "  2,\n",
       "  16,\n",
       "  5,\n",
       "  None,\n",
       "  'issue'),\n",
       " (3,\n",
       "  'Post3',\n",
       "  'Description3',\n",
       "  datetime.datetime(2023, 11, 2, 9, 26, 24),\n",
       "  'in progress',\n",
       "  'environment',\n",
       "  3,\n",
       "  6,\n",
       "  2,\n",
       "  1,\n",
       "  'issue'),\n",
       " (4,\n",
       "  'Post4',\n",
       "  'Description4',\n",
       "  datetime.datetime(2023, 11, 2, 9, 26, 24),\n",
       "  'in progress',\n",
       "  'governance',\n",
       "  4,\n",
       "  8,\n",
       "  1,\n",
       "  None,\n",
       "  'issue'),\n",
       " (5,\n",
       "  'Post5',\n",
       "  'Description5',\n",
       "  datetime.datetime(2023, 11, 2, 9, 26, 24),\n",
       "  'in progress',\n",
       "  'environment',\n",
       "  5,\n",
       "  12,\n",
       "  5,\n",
       "  2,\n",
       "  'issue'),\n",
       " (6,\n",
       "  'tHIS is a Title (i am drunk)',\n",
       "  'Description1',\n",
       "  datetime.datetime(2023, 11, 2, 9, 31, 35),\n",
       "  'in progress',\n",
       "  'environment',\n",
       "  3,\n",
       "  11,\n",
       "  2,\n",
       "  None,\n",
       "  'issue'),\n",
       " (7,\n",
       "  'Jharkhand water crisis',\n",
       "  '81% dams dried up. requesting AID immediately',\n",
       "  datetime.datetime(2023, 11, 4, 7, 39, 29),\n",
       "  'in progress',\n",
       "  'environment',\n",
       "  8,\n",
       "  1,\n",
       "  1,\n",
       "  3,\n",
       "  'issue'),\n",
       " (8,\n",
       "  'Pune Road Crisis in Baner',\n",
       "  'Potholes, Traffic and lack of management',\n",
       "  datetime.datetime(2023, 11, 4, 8, 17, 16),\n",
       "  'in progress',\n",
       "  'governance',\n",
       "  8,\n",
       "  0,\n",
       "  1,\n",
       "  3,\n",
       "  'issue'),\n",
       " (9,\n",
       "  'Afforestation act of 2023- Maharashtra Govt',\n",
       "  'To increase land under tree foliage by 15% by 2025',\n",
       "  datetime.datetime(2023, 11, 4, 10, 20, 55),\n",
       "  'in progress',\n",
       "  'environment',\n",
       "  8,\n",
       "  1,\n",
       "  0,\n",
       "  3,\n",
       "  'project'),\n",
       " (10,\n",
       "  'The Anti LGBTQ Law of 2023-Forever',\n",
       "  'Being part of the LGBTQ is Gay',\n",
       "  datetime.datetime(2023, 11, 4, 10, 25, 43),\n",
       "  'in progress',\n",
       "  'social',\n",
       "  10,\n",
       "  3,\n",
       "  0,\n",
       "  3,\n",
       "  'project')]"
      ]
     },
     "execution_count": 4,
     "metadata": {},
     "output_type": "execute_result"
    }
   ],
   "source": [
    "query = f\"SELECT * FROM Post\"\n",
    "cursor.execute(query)\n",
    "result = cursor.fetchall()\n",
    "result"
   ]
  },
  {
   "cell_type": "code",
   "execution_count": 7,
   "metadata": {},
   "outputs": [],
   "source": [
    "def get_posts():\n",
    "    query = f\"SELECT Post.*,Name FROM Post join User using(UserID);\"\n",
    "    cursor.execute(query)\n",
    "    result = cursor.fetchall()\n",
    "    posts_df=pd.DataFrame(result,columns=[\"PostID\",\"Title\",\"Description\",\"CreatedAtDate\",\"Status\",\"Topic\",\"UserID\",\"Upvotes\",\"Downvotes\",\"OrganizationID\",\"Type\",\"PostedBy\"])\n",
    "    return posts_df"
   ]
  },
  {
   "cell_type": "code",
   "execution_count": 8,
   "metadata": {},
   "outputs": [
    {
     "data": {
      "text/html": [
       "<div>\n",
       "<style scoped>\n",
       "    .dataframe tbody tr th:only-of-type {\n",
       "        vertical-align: middle;\n",
       "    }\n",
       "\n",
       "    .dataframe tbody tr th {\n",
       "        vertical-align: top;\n",
       "    }\n",
       "\n",
       "    .dataframe thead th {\n",
       "        text-align: right;\n",
       "    }\n",
       "</style>\n",
       "<table border=\"1\" class=\"dataframe\">\n",
       "  <thead>\n",
       "    <tr style=\"text-align: right;\">\n",
       "      <th></th>\n",
       "      <th>PostID</th>\n",
       "      <th>Title</th>\n",
       "      <th>Description</th>\n",
       "      <th>CreatedAtDate</th>\n",
       "      <th>Status</th>\n",
       "      <th>Topic</th>\n",
       "      <th>UserID</th>\n",
       "      <th>Upvotes</th>\n",
       "      <th>Downvotes</th>\n",
       "      <th>OrganizationID</th>\n",
       "      <th>Type</th>\n",
       "      <th>PostedBy</th>\n",
       "    </tr>\n",
       "  </thead>\n",
       "  <tbody>\n",
       "    <tr>\n",
       "      <th>0</th>\n",
       "      <td>1</td>\n",
       "      <td>Post1</td>\n",
       "      <td>Description1</td>\n",
       "      <td>2023-11-02 09:26:24</td>\n",
       "      <td>in progress</td>\n",
       "      <td>environment</td>\n",
       "      <td>1</td>\n",
       "      <td>13</td>\n",
       "      <td>3</td>\n",
       "      <td>NaN</td>\n",
       "      <td>issue</td>\n",
       "      <td>User1</td>\n",
       "    </tr>\n",
       "    <tr>\n",
       "      <th>1</th>\n",
       "      <td>2</td>\n",
       "      <td>Post2</td>\n",
       "      <td>Description2</td>\n",
       "      <td>2023-11-02 09:26:24</td>\n",
       "      <td>in progress</td>\n",
       "      <td>social</td>\n",
       "      <td>2</td>\n",
       "      <td>16</td>\n",
       "      <td>5</td>\n",
       "      <td>NaN</td>\n",
       "      <td>issue</td>\n",
       "      <td>User2</td>\n",
       "    </tr>\n",
       "    <tr>\n",
       "      <th>2</th>\n",
       "      <td>3</td>\n",
       "      <td>Post3</td>\n",
       "      <td>Description3</td>\n",
       "      <td>2023-11-02 09:26:24</td>\n",
       "      <td>in progress</td>\n",
       "      <td>environment</td>\n",
       "      <td>3</td>\n",
       "      <td>6</td>\n",
       "      <td>2</td>\n",
       "      <td>1.0</td>\n",
       "      <td>issue</td>\n",
       "      <td>User3</td>\n",
       "    </tr>\n",
       "    <tr>\n",
       "      <th>3</th>\n",
       "      <td>4</td>\n",
       "      <td>Post4</td>\n",
       "      <td>Description4</td>\n",
       "      <td>2023-11-02 09:26:24</td>\n",
       "      <td>in progress</td>\n",
       "      <td>governance</td>\n",
       "      <td>4</td>\n",
       "      <td>8</td>\n",
       "      <td>1</td>\n",
       "      <td>NaN</td>\n",
       "      <td>issue</td>\n",
       "      <td>User4</td>\n",
       "    </tr>\n",
       "    <tr>\n",
       "      <th>4</th>\n",
       "      <td>5</td>\n",
       "      <td>Post5</td>\n",
       "      <td>Description5</td>\n",
       "      <td>2023-11-02 09:26:24</td>\n",
       "      <td>in progress</td>\n",
       "      <td>environment</td>\n",
       "      <td>5</td>\n",
       "      <td>12</td>\n",
       "      <td>5</td>\n",
       "      <td>2.0</td>\n",
       "      <td>issue</td>\n",
       "      <td>User5</td>\n",
       "    </tr>\n",
       "    <tr>\n",
       "      <th>5</th>\n",
       "      <td>6</td>\n",
       "      <td>tHIS is a Title (i am drunk)</td>\n",
       "      <td>Description1</td>\n",
       "      <td>2023-11-02 09:31:35</td>\n",
       "      <td>in progress</td>\n",
       "      <td>environment</td>\n",
       "      <td>3</td>\n",
       "      <td>11</td>\n",
       "      <td>2</td>\n",
       "      <td>NaN</td>\n",
       "      <td>issue</td>\n",
       "      <td>User3</td>\n",
       "    </tr>\n",
       "    <tr>\n",
       "      <th>6</th>\n",
       "      <td>7</td>\n",
       "      <td>Jharkhand water crisis</td>\n",
       "      <td>81% dams dried up. requesting AID immediately</td>\n",
       "      <td>2023-11-04 07:39:29</td>\n",
       "      <td>in progress</td>\n",
       "      <td>environment</td>\n",
       "      <td>8</td>\n",
       "      <td>1</td>\n",
       "      <td>1</td>\n",
       "      <td>3.0</td>\n",
       "      <td>issue</td>\n",
       "      <td>amaan</td>\n",
       "    </tr>\n",
       "    <tr>\n",
       "      <th>7</th>\n",
       "      <td>8</td>\n",
       "      <td>Pune Road Crisis in Baner</td>\n",
       "      <td>Potholes, Traffic and lack of management</td>\n",
       "      <td>2023-11-04 08:17:16</td>\n",
       "      <td>in progress</td>\n",
       "      <td>governance</td>\n",
       "      <td>8</td>\n",
       "      <td>0</td>\n",
       "      <td>1</td>\n",
       "      <td>3.0</td>\n",
       "      <td>issue</td>\n",
       "      <td>amaan</td>\n",
       "    </tr>\n",
       "    <tr>\n",
       "      <th>8</th>\n",
       "      <td>9</td>\n",
       "      <td>Afforestation act of 2023- Maharashtra Govt</td>\n",
       "      <td>To increase land under tree foliage by 15% by ...</td>\n",
       "      <td>2023-11-04 10:20:55</td>\n",
       "      <td>in progress</td>\n",
       "      <td>environment</td>\n",
       "      <td>8</td>\n",
       "      <td>1</td>\n",
       "      <td>0</td>\n",
       "      <td>3.0</td>\n",
       "      <td>project</td>\n",
       "      <td>amaan</td>\n",
       "    </tr>\n",
       "    <tr>\n",
       "      <th>9</th>\n",
       "      <td>10</td>\n",
       "      <td>The Anti LGBTQ Law of 2023-Forever</td>\n",
       "      <td>Being part of the LGBTQ is Gay</td>\n",
       "      <td>2023-11-04 10:25:43</td>\n",
       "      <td>in progress</td>\n",
       "      <td>social</td>\n",
       "      <td>10</td>\n",
       "      <td>3</td>\n",
       "      <td>0</td>\n",
       "      <td>3.0</td>\n",
       "      <td>project</td>\n",
       "      <td>chou</td>\n",
       "    </tr>\n",
       "  </tbody>\n",
       "</table>\n",
       "</div>"
      ],
      "text/plain": [
       "   PostID                                        Title  \\\n",
       "0       1                                        Post1   \n",
       "1       2                                        Post2   \n",
       "2       3                                        Post3   \n",
       "3       4                                        Post4   \n",
       "4       5                                        Post5   \n",
       "5       6                 tHIS is a Title (i am drunk)   \n",
       "6       7                       Jharkhand water crisis   \n",
       "7       8                    Pune Road Crisis in Baner   \n",
       "8       9  Afforestation act of 2023- Maharashtra Govt   \n",
       "9      10           The Anti LGBTQ Law of 2023-Forever   \n",
       "\n",
       "                                         Description       CreatedAtDate  \\\n",
       "0                                       Description1 2023-11-02 09:26:24   \n",
       "1                                       Description2 2023-11-02 09:26:24   \n",
       "2                                       Description3 2023-11-02 09:26:24   \n",
       "3                                       Description4 2023-11-02 09:26:24   \n",
       "4                                       Description5 2023-11-02 09:26:24   \n",
       "5                                       Description1 2023-11-02 09:31:35   \n",
       "6      81% dams dried up. requesting AID immediately 2023-11-04 07:39:29   \n",
       "7           Potholes, Traffic and lack of management 2023-11-04 08:17:16   \n",
       "8  To increase land under tree foliage by 15% by ... 2023-11-04 10:20:55   \n",
       "9                     Being part of the LGBTQ is Gay 2023-11-04 10:25:43   \n",
       "\n",
       "        Status        Topic  UserID  Upvotes  Downvotes  OrganizationID  \\\n",
       "0  in progress  environment       1       13          3             NaN   \n",
       "1  in progress       social       2       16          5             NaN   \n",
       "2  in progress  environment       3        6          2             1.0   \n",
       "3  in progress   governance       4        8          1             NaN   \n",
       "4  in progress  environment       5       12          5             2.0   \n",
       "5  in progress  environment       3       11          2             NaN   \n",
       "6  in progress  environment       8        1          1             3.0   \n",
       "7  in progress   governance       8        0          1             3.0   \n",
       "8  in progress  environment       8        1          0             3.0   \n",
       "9  in progress       social      10        3          0             3.0   \n",
       "\n",
       "      Type PostedBy  \n",
       "0    issue    User1  \n",
       "1    issue    User2  \n",
       "2    issue    User3  \n",
       "3    issue    User4  \n",
       "4    issue    User5  \n",
       "5    issue    User3  \n",
       "6    issue    amaan  \n",
       "7    issue    amaan  \n",
       "8  project    amaan  \n",
       "9  project     chou  "
      ]
     },
     "execution_count": 8,
     "metadata": {},
     "output_type": "execute_result"
    }
   ],
   "source": [
    "get_posts()"
   ]
  },
  {
   "cell_type": "markdown",
   "metadata": {},
   "source": [
    "# Handling Voting"
   ]
  },
  {
   "cell_type": "code",
   "execution_count": 3,
   "metadata": {},
   "outputs": [],
   "source": [
    "def has_user_upvoted(user_id, post_id):\n",
    "    # Check if the user has upvoted the post\n",
    "    query = f\"SELECT VoteType FROM UserVotes WHERE UserID = {user_id} AND PostID = {post_id}\"\n",
    "    cursor.execute(query)\n",
    "    result = cursor.fetchall()\n",
    "\n",
    "    if len(result) > 0:\n",
    "        votetype=result[0][0]\n",
    "        if votetype=='downvote':\n",
    "            # User has upvoted, handle downvoting logic\n",
    "            # First, remove the previous upvote from the votes table\n",
    "            delete_query = f\"DELETE FROM UserVotes WHERE UserID = {user_id} AND PostID = {post_id};\"\n",
    "            cursor.execute(delete_query)\n",
    "            cnx.commit()\n",
    "\n",
    "            # Next, update the upvotes and downvotes in the posts table\n",
    "            update_query = f\"UPDATE Post SET Downvotes = Downvotes - 1 WHERE PostID = {post_id}\"\n",
    "            cursor.execute(update_query)\n",
    "            cnx.commit()\n",
    "            return False  # User has downvoted after the previous upvote\n",
    "        else:\n",
    "            return True\n",
    "    else:\n",
    "        return False  # User has not upvoted the post, they can upvote it\n"
   ]
  },
  {
   "cell_type": "code",
   "execution_count": 5,
   "metadata": {},
   "outputs": [],
   "source": [
    "def insert_upvote(user_id, post_id):\n",
    "    query = f\"INSERT INTO UserVotes (UserID, PostID, VoteType) VALUES ({user_id}, {post_id}, 'upvote')\"\n",
    "    cursor.execute(query)\n",
    "    cnx.commit()\n",
    "    update_query = f\"UPDATE Post SET Upvotes = Upvotes + 1 WHERE PostID = {post_id}\"\n",
    "    cursor.execute(update_query)\n",
    "    cnx.commit()\n"
   ]
  },
  {
   "cell_type": "code",
   "execution_count": 9,
   "metadata": {},
   "outputs": [],
   "source": [
    "if not has_user_upvoted(1,1):\n",
    "    insert_upvote(1,1)"
   ]
  },
  {
   "cell_type": "code",
   "execution_count": 10,
   "metadata": {},
   "outputs": [
    {
     "name": "stdout",
     "output_type": "stream",
     "text": [
      "[(1, 1, 1, 'upvote', datetime.datetime(2023, 11, 4, 6, 6, 15), 11, 2)]\n"
     ]
    }
   ],
   "source": [
    "query=\"SELECT UserVotes.*,Upvotes,Downvotes FROM UserVotes join Post using(PostID)\"\n",
    "cursor.execute(query)\n",
    "result=cursor.fetchall()\n",
    "print(result)"
   ]
  },
  {
   "cell_type": "code",
   "execution_count": null,
   "metadata": {},
   "outputs": [],
   "source": [
    "def has_user_downvoted(user_id, post_id):\n",
    "    # Check if the user has upvoted the post\n",
    "    query = f\"SELECT VoteType FROM UserVotes WHERE UserID = {user_id} AND PostID = {post_id} AND VoteType = 'upvote'\"\n",
    "    cursor.execute(query)\n",
    "    result = cursor.fetchall()\n",
    "\n",
    "    if len(result) > 0:\n",
    "        votetype=result[0][0]\n",
    "        if votetype=='downvote':\n",
    "            # User has upvoted, handle downvoting logic\n",
    "            # First, remove the previous upvote from the votes table\n",
    "            delete_query = f\"DELETE FROM UserVotes WHERE UserID = {user_id} AND PostID = {post_id};\"\n",
    "            cursor.execute(delete_query)\n",
    "            cnx.commit()\n",
    "\n",
    "            # Next, update the upvotes and downvotes in the posts table\n",
    "            update_query = f\"UPDATE Post SET Downvotes = Downvotes - 1 WHERE PostID = {post_id}\"\n",
    "            cursor.execute(update_query)\n",
    "            cnx.commit()\n",
    "            return False  # User has downvoted after the previous upvote\n",
    "        else:\n",
    "            return True\n",
    "    else:\n",
    "        return False  # User has not upvoted the post, they can upvote it\n"
   ]
  },
  {
   "cell_type": "markdown",
   "metadata": {},
   "source": [
    "# How to get a User's OrgID"
   ]
  },
  {
   "cell_type": "code",
   "execution_count": 11,
   "metadata": {},
   "outputs": [
    {
     "name": "stdout",
     "output_type": "stream",
     "text": [
      "[(None,)]\n"
     ]
    }
   ],
   "source": [
    "query=f\"SELECT OrganizationID from User where UserID=1\"\n",
    "cursor.execute(query)\n",
    "result=cursor.fetchall()\n",
    "print(result)"
   ]
  },
  {
   "cell_type": "markdown",
   "metadata": {},
   "source": [
    "# Analytics time"
   ]
  },
  {
   "cell_type": "code",
   "execution_count": 1,
   "metadata": {},
   "outputs": [],
   "source": [
    "import matplotlib.pyplot as plt\n"
   ]
  },
  {
   "cell_type": "code",
   "execution_count": 35,
   "metadata": {},
   "outputs": [],
   "source": [
    "def get_sentiment_analytics(post_id):\n",
    "    q=f\"SELECT * from Comment WHERE PostID={post_id};\"\n",
    "    cursor.execute(q)\n",
    "    result=cursor.fetchall()\n",
    "    comment_df=pd.DataFrame(result,columns=[\"CommentID\",\"Content\",\"CreatedAtDate\",\"UserID\",\"PostID\"])\n",
    "    comments=comment_df[\"Content\"]\n",
    "    sentiments=[]\n",
    "    for comment in comments:\n",
    "        sentiment_scores = sid.polarity_scores(comment)\n",
    "        compound_score = sentiment_scores['compound']\n",
    "        sentiments.append(compound_score)\n",
    "    comment_df['CompoundScore'] = sentiments\n",
    "\n",
    "    # Categorize comments as positive, negative, or neutral\n",
    "    comment_df['SentimentLabel'] = 'neutral'\n",
    "    comment_df.loc[comment_df['CompoundScore'] > 0.05, 'SentimentLabel'] = 'positive'\n",
    "    comment_df.loc[comment_df['CompoundScore'] < -0.05, 'SentimentLabel'] = 'negative'\n",
    "    return comment_df\n"
   ]
  },
  {
   "cell_type": "code",
   "execution_count": 48,
   "metadata": {},
   "outputs": [],
   "source": [
    "senti_anal=get_sentiment_analytics(6)"
   ]
  },
  {
   "cell_type": "code",
   "execution_count": 50,
   "metadata": {},
   "outputs": [
    {
     "data": {
      "text/html": [
       "<div>\n",
       "<style scoped>\n",
       "    .dataframe tbody tr th:only-of-type {\n",
       "        vertical-align: middle;\n",
       "    }\n",
       "\n",
       "    .dataframe tbody tr th {\n",
       "        vertical-align: top;\n",
       "    }\n",
       "\n",
       "    .dataframe thead th {\n",
       "        text-align: right;\n",
       "    }\n",
       "</style>\n",
       "<table border=\"1\" class=\"dataframe\">\n",
       "  <thead>\n",
       "    <tr style=\"text-align: right;\">\n",
       "      <th></th>\n",
       "      <th>CommentID</th>\n",
       "      <th>Content</th>\n",
       "      <th>CreatedAtDate</th>\n",
       "      <th>UserID</th>\n",
       "      <th>PostID</th>\n",
       "      <th>CompoundScore</th>\n",
       "      <th>SentimentLabel</th>\n",
       "    </tr>\n",
       "  </thead>\n",
       "  <tbody>\n",
       "    <tr>\n",
       "      <th>0</th>\n",
       "      <td>10</td>\n",
       "      <td>I approve of this message</td>\n",
       "      <td>2023-11-04 09:59:09</td>\n",
       "      <td>NaN</td>\n",
       "      <td>6</td>\n",
       "      <td>0.0000</td>\n",
       "      <td>neutral</td>\n",
       "    </tr>\n",
       "    <tr>\n",
       "      <th>1</th>\n",
       "      <td>11</td>\n",
       "      <td>this is very offensive, so sad to see the gene...</td>\n",
       "      <td>2023-11-04 09:59:40</td>\n",
       "      <td>NaN</td>\n",
       "      <td>6</td>\n",
       "      <td>-0.7281</td>\n",
       "      <td>negative</td>\n",
       "    </tr>\n",
       "    <tr>\n",
       "      <th>2</th>\n",
       "      <td>12</td>\n",
       "      <td>Very good</td>\n",
       "      <td>2023-11-04 09:59:52</td>\n",
       "      <td>NaN</td>\n",
       "      <td>6</td>\n",
       "      <td>0.4927</td>\n",
       "      <td>positive</td>\n",
       "    </tr>\n",
       "    <tr>\n",
       "      <th>3</th>\n",
       "      <td>14</td>\n",
       "      <td>very poor quality post</td>\n",
       "      <td>2023-11-04 10:03:46</td>\n",
       "      <td>8.0</td>\n",
       "      <td>6</td>\n",
       "      <td>-0.5256</td>\n",
       "      <td>negative</td>\n",
       "    </tr>\n",
       "  </tbody>\n",
       "</table>\n",
       "</div>"
      ],
      "text/plain": [
       "   CommentID                                            Content  \\\n",
       "0         10                          I approve of this message   \n",
       "1         11  this is very offensive, so sad to see the gene...   \n",
       "2         12                                          Very good   \n",
       "3         14                             very poor quality post   \n",
       "\n",
       "        CreatedAtDate  UserID  PostID  CompoundScore SentimentLabel  \n",
       "0 2023-11-04 09:59:09     NaN       6         0.0000        neutral  \n",
       "1 2023-11-04 09:59:40     NaN       6        -0.7281       negative  \n",
       "2 2023-11-04 09:59:52     NaN       6         0.4927       positive  \n",
       "3 2023-11-04 10:03:46     8.0       6        -0.5256       negative  "
      ]
     },
     "execution_count": 50,
     "metadata": {},
     "output_type": "execute_result"
    }
   ],
   "source": [
    "senti_anal"
   ]
  },
  {
   "cell_type": "code",
   "execution_count": 49,
   "metadata": {},
   "outputs": [
    {
     "data": {
      "text/plain": [
       "Index(['negative', 'neutral', 'positive'], dtype='object')"
      ]
     },
     "execution_count": 49,
     "metadata": {},
     "output_type": "execute_result"
    }
   ],
   "source": [
    "senti_anal['SentimentLabel'].value_counts().index"
   ]
  },
  {
   "cell_type": "code",
   "execution_count": 45,
   "metadata": {},
   "outputs": [
    {
     "data": {
      "text/plain": [
       "array([4, 1], dtype=int64)"
      ]
     },
     "execution_count": 45,
     "metadata": {},
     "output_type": "execute_result"
    }
   ],
   "source": [
    "senti_anal['SentimentLabel'].value_counts().values"
   ]
  },
  {
   "cell_type": "code",
   "execution_count": 44,
   "metadata": {},
   "outputs": [
    {
     "data": {
      "text/plain": [
       "(array([2., 1., 1., 0.]),\n",
       " DatetimeIndex(['2023-11-02 09:26:24', '2023-11-04 08:32:18',\n",
       "                '2023-11-04 08:51:24', '2023-11-04 09:02:50'],\n",
       "               dtype='datetime64[ns]', name='CreatedAtDate', freq=None))"
      ]
     },
     "execution_count": 44,
     "metadata": {},
     "output_type": "execute_result"
    }
   ],
   "source": [
    "grouped = senti_anal.groupby(['CreatedAtDate', 'SentimentLabel']).size().unstack().fillna(0)\n",
    "grouped['neutral'].values,grouped.index"
   ]
  },
  {
   "cell_type": "code",
   "execution_count": 46,
   "metadata": {},
   "outputs": [],
   "source": [
    "def fetch_comments_for_post(post_id):\n",
    "    query = \"SELECT Comment.CommentID, Comment.Content, Comment.CreatedAtDate, User.Name \" \\\n",
    "            \"FROM Comment \" \\\n",
    "            \"INNER JOIN User ON Comment.UserID = User.UserID \" \\\n",
    "            \"WHERE Comment.PostID = %s\"\n",
    "    cursor.execute(query, (post_id,))\n",
    "    comments = []\n",
    "    \n",
    "    for comment_data in cursor.fetchall():\n",
    "        comment = {\n",
    "            'CommentID': comment_data[0],\n",
    "            'Content': comment_data[1],\n",
    "            'CreatedAtDate': comment_data[2],\n",
    "            'Name': comment_data[3]\n",
    "        }\n",
    "        comments.append(comment)\n",
    "\n",
    "    return comments"
   ]
  },
  {
   "cell_type": "code",
   "execution_count": null,
   "metadata": {},
   "outputs": [],
   "source": []
  }
 ],
 "metadata": {
  "kernelspec": {
   "display_name": "Python 3",
   "language": "python",
   "name": "python3"
  },
  "language_info": {
   "codemirror_mode": {
    "name": "ipython",
    "version": 3
   },
   "file_extension": ".py",
   "mimetype": "text/x-python",
   "name": "python",
   "nbconvert_exporter": "python",
   "pygments_lexer": "ipython3",
   "version": "3.11.0"
  }
 },
 "nbformat": 4,
 "nbformat_minor": 2
}
