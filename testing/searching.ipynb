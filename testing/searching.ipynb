{
 "cells": [
  {
   "cell_type": "code",
   "execution_count": 1,
   "metadata": {},
   "outputs": [],
   "source": [
    "import mysql.connector\n",
    "import json\n",
    "import pandas as pd\n",
    "import nltk\n",
    "from nltk.sentiment.vader import SentimentIntensityAnalyzer\n",
    "sid = SentimentIntensityAnalyzer()\n",
    "# Load database configuration from a JSON file\n",
    "with open(\"config.json\", \"r\") as f:\n",
    "    config = json.load(f)"
   ]
  },
  {
   "cell_type": "code",
   "execution_count": 38,
   "metadata": {},
   "outputs": [],
   "source": [
    "# Create a database connection\n",
    "cnx = mysql.connector.connect(\n",
    "    host=\"localhost\",  # Update with your host\n",
    "    user=config[\"username\"],\n",
    "    password=config[\"password\"],\n",
    "    database=\"project\"\n",
    ")\n",
    "# Create a cursor object to execute SQL queries\n",
    "cursor = cnx.cursor()\n"
   ]
  },
  {
   "cell_type": "code",
   "execution_count": 26,
   "metadata": {},
   "outputs": [],
   "source": [
    "def get_stats_for_post(post_id):\n",
    "    query1 = f\"SELECT Upvotes+Downvotes FROM Post WHERE PostID={post_id};\"\n",
    "    cursor.execute(query1)\n",
    "    total_votes= cursor.fetchall()\n",
    "    total_votes=total_votes[0][0]\n",
    "    query2=f\"SELECT COUNT(*) FROM Comment WHERE PostID={post_id}\"\n",
    "    cursor.execute(query2)\n",
    "    total_comments= cursor.fetchall()\n",
    "    total_comments=total_comments[0][0]\n",
    "    query3=f\"SELECT Content FROM Comment WHERE PostID={post_id}\"\n",
    "    cursor.execute(query3)\n",
    "    comments= cursor.fetchall()\n",
    "    neg=0\n",
    "    pos=0\n",
    "    neut=0\n",
    "    for comment in comments:\n",
    "        comment=comment[0]\n",
    "        sentiment_scores = sid.polarity_scores(comment)\n",
    "        compound_score = sentiment_scores['compound']\n",
    "        if compound_score<-0.05:\n",
    "            neg+=1\n",
    "        elif compound_score>0.05:\n",
    "            pos+=1\n",
    "        else:\n",
    "            neut+=1\n",
    "\n",
    "    query4=f\"SELECT Downvotes FROM Post WHERE PostID={post_id};\"\n",
    "    cursor.execute(query4)\n",
    "    downvotes=cursor.fetchall()\n",
    "    downvotes=downvotes[0][0]\n",
    "    return [total_votes,total_comments,neg,pos,neut,downvotes]\n"
   ]
  },
  {
   "cell_type": "code",
   "execution_count": 27,
   "metadata": {},
   "outputs": [],
   "source": [
    "def rank_posts():\n",
    "    query0=\"SELECT DISTINCT PostID from Post;\"\n",
    "    cursor.execute(query0)\n",
    "    all_posts= cursor.fetchall()\n",
    "    post_to_score={}\n",
    "    for post_id in all_posts:\n",
    "        post_id=post_id[0]\n",
    "        stats=get_stats_for_post(post_id)\n",
    "        score=stats[0]+stats[1]-stats[2]+stats[3]-0.5*stats[5]\n",
    "        post_to_score[post_id]=score\n",
    "    res= post_to_score.copy()\n",
    "    sorted_res = sorted(res.items(), key=lambda x:x[1], reverse=True)\n",
    "    sorted_res = dict(sorted_res)\n",
    "    return list(sorted_res.keys())"
   ]
  },
  {
   "cell_type": "code",
   "execution_count": 28,
   "metadata": {},
   "outputs": [],
   "source": [
    "res=rank_posts()"
   ]
  },
  {
   "cell_type": "code",
   "execution_count": 29,
   "metadata": {},
   "outputs": [
    {
     "data": {
      "text/plain": [
       "[3, 1, 2, 4]"
      ]
     },
     "execution_count": 29,
     "metadata": {},
     "output_type": "execute_result"
    }
   ],
   "source": [
    "res"
   ]
  },
  {
   "cell_type": "code",
   "execution_count": 18,
   "metadata": {},
   "outputs": [],
   "source": [
    "def get_ranked_posts(ranked_ids):\n",
    "    dfs=[]\n",
    "    for post_id in ranked_ids:\n",
    "        query = f\"SELECT Post.*,Name FROM Post join User using(UserID) WHERE PostID={post_id};\"\n",
    "        cursor.execute(query)\n",
    "        result = cursor.fetchall()\n",
    "        posts_df=pd.DataFrame(result,columns=[\"PostID\",\"Title\",\"Description\",\"CreatedAtDate\",\"Status\",\"Topic\",\"UserID\",\"Upvotes\",\"Downvotes\",\"OrganizationID\",\"Type\",\"PostedBy\"])\n",
    "        dfs.append(posts_df)\n",
    "\n",
    "    result_df=pd.concat(dfs,axis=0)\n",
    "    return result_df\n"
   ]
  },
  {
   "cell_type": "code",
   "execution_count": 19,
   "metadata": {},
   "outputs": [],
   "source": [
    "df=get_ranked_posts(res)"
   ]
  },
  {
   "cell_type": "code",
   "execution_count": 20,
   "metadata": {},
   "outputs": [
    {
     "data": {
      "text/html": [
       "<div>\n",
       "<style scoped>\n",
       "    .dataframe tbody tr th:only-of-type {\n",
       "        vertical-align: middle;\n",
       "    }\n",
       "\n",
       "    .dataframe tbody tr th {\n",
       "        vertical-align: top;\n",
       "    }\n",
       "\n",
       "    .dataframe thead th {\n",
       "        text-align: right;\n",
       "    }\n",
       "</style>\n",
       "<table border=\"1\" class=\"dataframe\">\n",
       "  <thead>\n",
       "    <tr style=\"text-align: right;\">\n",
       "      <th></th>\n",
       "      <th>PostID</th>\n",
       "      <th>Title</th>\n",
       "      <th>Description</th>\n",
       "      <th>CreatedAtDate</th>\n",
       "      <th>Status</th>\n",
       "      <th>Topic</th>\n",
       "      <th>UserID</th>\n",
       "      <th>Upvotes</th>\n",
       "      <th>Downvotes</th>\n",
       "      <th>OrganizationID</th>\n",
       "      <th>Type</th>\n",
       "      <th>PostedBy</th>\n",
       "    </tr>\n",
       "  </thead>\n",
       "  <tbody>\n",
       "    <tr>\n",
       "      <th>0</th>\n",
       "      <td>3</td>\n",
       "      <td>Afforestation act of 2023- Maharashtra Govt</td>\n",
       "      <td>Planning on increasing area under tree foliage...</td>\n",
       "      <td>2023-11-08 08:06:59</td>\n",
       "      <td>in progress</td>\n",
       "      <td>environment</td>\n",
       "      <td>3</td>\n",
       "      <td>4</td>\n",
       "      <td>0</td>\n",
       "      <td>3</td>\n",
       "      <td>project</td>\n",
       "      <td>atharvaam21</td>\n",
       "    </tr>\n",
       "    <tr>\n",
       "      <th>0</th>\n",
       "      <td>1</td>\n",
       "      <td>Jharkhand water crisis</td>\n",
       "      <td>70% Dams have dried up in this summer. Request...</td>\n",
       "      <td>2023-11-08 07:57:21</td>\n",
       "      <td>in progress</td>\n",
       "      <td>environment</td>\n",
       "      <td>1</td>\n",
       "      <td>5</td>\n",
       "      <td>0</td>\n",
       "      <td>None</td>\n",
       "      <td>issue</td>\n",
       "      <td>amaan</td>\n",
       "    </tr>\n",
       "    <tr>\n",
       "      <th>0</th>\n",
       "      <td>2</td>\n",
       "      <td>Pune Road Crisis in Baner</td>\n",
       "      <td>Traffic on average 2hrs per day due to poor ro...</td>\n",
       "      <td>2023-11-08 08:02:40</td>\n",
       "      <td>in progress</td>\n",
       "      <td>governance</td>\n",
       "      <td>2</td>\n",
       "      <td>2</td>\n",
       "      <td>2</td>\n",
       "      <td>None</td>\n",
       "      <td>issue</td>\n",
       "      <td>thakre</td>\n",
       "    </tr>\n",
       "    <tr>\n",
       "      <th>0</th>\n",
       "      <td>4</td>\n",
       "      <td>Maharashtra Temperature Reach High 20s in Peak...</td>\n",
       "      <td>This unexpected rise in temperatures has left ...</td>\n",
       "      <td>2023-11-08 18:41:25</td>\n",
       "      <td>in progress</td>\n",
       "      <td>environment</td>\n",
       "      <td>4</td>\n",
       "      <td>1</td>\n",
       "      <td>1</td>\n",
       "      <td>1</td>\n",
       "      <td>issue</td>\n",
       "      <td>pratyay</td>\n",
       "    </tr>\n",
       "  </tbody>\n",
       "</table>\n",
       "</div>"
      ],
      "text/plain": [
       "   PostID                                              Title  \\\n",
       "0       3        Afforestation act of 2023- Maharashtra Govt   \n",
       "0       1                             Jharkhand water crisis   \n",
       "0       2                          Pune Road Crisis in Baner   \n",
       "0       4  Maharashtra Temperature Reach High 20s in Peak...   \n",
       "\n",
       "                                         Description       CreatedAtDate  \\\n",
       "0  Planning on increasing area under tree foliage... 2023-11-08 08:06:59   \n",
       "0  70% Dams have dried up in this summer. Request... 2023-11-08 07:57:21   \n",
       "0  Traffic on average 2hrs per day due to poor ro... 2023-11-08 08:02:40   \n",
       "0  This unexpected rise in temperatures has left ... 2023-11-08 18:41:25   \n",
       "\n",
       "        Status        Topic  UserID  Upvotes  Downvotes OrganizationID  \\\n",
       "0  in progress  environment       3        4          0              3   \n",
       "0  in progress  environment       1        5          0           None   \n",
       "0  in progress   governance       2        2          2           None   \n",
       "0  in progress  environment       4        1          1              1   \n",
       "\n",
       "      Type     PostedBy  \n",
       "0  project  atharvaam21  \n",
       "0    issue        amaan  \n",
       "0    issue       thakre  \n",
       "0    issue      pratyay  "
      ]
     },
     "execution_count": 20,
     "metadata": {},
     "output_type": "execute_result"
    }
   ],
   "source": [
    "df"
   ]
  },
  {
   "cell_type": "markdown",
   "metadata": {},
   "source": [
    "# Levenshtein Distance between two strings"
   ]
  },
  {
   "cell_type": "code",
   "execution_count": 30,
   "metadata": {},
   "outputs": [],
   "source": [
    "from thefuzz import fuzz"
   ]
  },
  {
   "cell_type": "code",
   "execution_count": 33,
   "metadata": {},
   "outputs": [
    {
     "name": "stdout",
     "output_type": "stream",
     "text": [
      "Similarity score: 58\n"
     ]
    }
   ],
   "source": [
    "# Check the similarity score\n",
    "name = \"Jharkhand\"\n",
    "full_name = \"Jharkhand water crisis\"\n",
    "\n",
    "print(f\"Similarity score: {fuzz.ratio(name, full_name)}\")\n",
    "\n"
   ]
  },
  {
   "cell_type": "code",
   "execution_count": 43,
   "metadata": {},
   "outputs": [],
   "source": [
    "def get_best_matching_titles(search_query):\n",
    "    query=\"SELECT Title,PostID FROM Post;\"\n",
    "    cursor.execute(query)\n",
    "    result=cursor.fetchall()\n",
    "    titles=[]\n",
    "    for title in result:\n",
    "        titles.append([title[0],title[1]])\n",
    "    string_match_dict={}\n",
    "    for title in titles:\n",
    "        string_match_dict[title[1]]=fuzz.ratio(title[0], search_query)\n",
    "    string_match_dict=sorted(string_match_dict.items(), key=lambda x:x[1], reverse=True)\n",
    "    string_match_dict = dict(string_match_dict)\n",
    "    return list(string_match_dict.keys())"
   ]
  },
  {
   "cell_type": "code",
   "execution_count": 46,
   "metadata": {},
   "outputs": [
    {
     "data": {
      "text/plain": [
       "[2, 1, 3, 4, 6]"
      ]
     },
     "execution_count": 46,
     "metadata": {},
     "output_type": "execute_result"
    }
   ],
   "source": [
    "get_best_matching_titles(\"Crisis\")"
   ]
  },
  {
   "cell_type": "code",
   "execution_count": null,
   "metadata": {},
   "outputs": [],
   "source": []
  }
 ],
 "metadata": {
  "kernelspec": {
   "display_name": "Python 3",
   "language": "python",
   "name": "python3"
  },
  "language_info": {
   "codemirror_mode": {
    "name": "ipython",
    "version": 3
   },
   "file_extension": ".py",
   "mimetype": "text/x-python",
   "name": "python",
   "nbconvert_exporter": "python",
   "pygments_lexer": "ipython3",
   "version": "3.11.0"
  }
 },
 "nbformat": 4,
 "nbformat_minor": 2
}
