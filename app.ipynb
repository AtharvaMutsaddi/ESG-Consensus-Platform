{
 "cells": [
  {
   "cell_type": "code",
   "execution_count": 1,
   "metadata": {},
   "outputs": [
    {
     "name": "stderr",
     "output_type": "stream",
     "text": [
      "[nltk_data] Downloading package vader_lexicon to\n",
      "[nltk_data]     C:\\Users\\athar\\AppData\\Roaming\\nltk_data...\n",
      "[nltk_data]   Package vader_lexicon is already up-to-date!\n"
     ]
    }
   ],
   "source": [
    "import mysql.connector\n",
    "import json\n",
    "import pandas as pd\n",
    "import nltk\n",
    "from nltk.sentiment.vader import SentimentIntensityAnalyzer\n",
    "nltk.download('vader_lexicon')\n",
    "sid = SentimentIntensityAnalyzer()\n",
    "# Load database configuration from a JSON file\n",
    "with open(\"config.json\", \"r\") as f:\n",
    "    config = json.load(f)"
   ]
  },
  {
   "cell_type": "code",
   "execution_count": 2,
   "metadata": {},
   "outputs": [],
   "source": [
    "# Create a database connection\n",
    "cnx = mysql.connector.connect(\n",
    "    host=\"localhost\",  # Update with your host\n",
    "    user=config[\"username\"],\n",
    "    password=config[\"password\"],\n",
    "    database=\"project\"\n",
    ")\n",
    "# Create a cursor object to execute SQL queries\n",
    "cursor = cnx.cursor()\n"
   ]
  },
  {
   "cell_type": "code",
   "execution_count": 3,
   "metadata": {},
   "outputs": [
    {
     "name": "stdout",
     "output_type": "stream",
     "text": [
      "    ORG   Location\n",
      "0  Org1  Location1\n",
      "1  Org2  Location2\n",
      "2  Org3  Location3\n",
      "3  Org4  Location4\n",
      "4  Org5  Location5\n"
     ]
    }
   ],
   "source": [
    "# Execute the first query and fetch the results\n",
    "query1 = \"SELECT Name, Location FROM Organization;\"\n",
    "cursor.execute(query1)\n",
    "results1 = cursor.fetchall()\n",
    "df=pd.DataFrame(results1,columns=[\"ORG\",\"Location\"])\n",
    "print(df.head())"
   ]
  },
  {
   "cell_type": "code",
   "execution_count": 4,
   "metadata": {},
   "outputs": [
    {
     "name": "stdout",
     "output_type": "stream",
     "text": [
      "1:{'neg': 0.0, 'neu': 1.0, 'pos': 0.0, 'compound': 0.0}\n",
      "2:{'neg': 0.0, 'neu': 1.0, 'pos': 0.0, 'compound': 0.0}\n",
      "3:{'neg': 0.0, 'neu': 1.0, 'pos': 0.0, 'compound': 0.0}\n",
      "4:{'neg': 0.0, 'neu': 1.0, 'pos': 0.0, 'compound': 0.0}\n",
      "5:{'neg': 0.0, 'neu': 1.0, 'pos': 0.0, 'compound': 0.0}\n",
      "6:{'neg': 0.513, 'neu': 0.487, 'pos': 0.0, 'compound': -0.2755}\n"
     ]
    }
   ],
   "source": [
    "query2 = \"SELECT CommentID,Content,UserID,PostID FROM Comment;\"\n",
    "cursor.execute(query2)\n",
    "results2 = cursor.fetchall()\n",
    "df=pd.DataFrame(results2,columns=[\"CommentID\",\"Content\",\"UserID\",\"PostID\"])\n",
    "for i in range(len(df)):\n",
    "    c_id=df[\"CommentID\"][i]\n",
    "    scores=sid.polarity_scores(df[\"Content\"][i])\n",
    "    print(f\"{c_id}:{scores}\")\n",
    "# Close the cursor and the database connection\n",
    "cursor.close()\n",
    "cnx.close()"
   ]
  },
  {
   "cell_type": "code",
   "execution_count": null,
   "metadata": {},
   "outputs": [],
   "source": []
  }
 ],
 "metadata": {
  "kernelspec": {
   "display_name": "Python 3",
   "language": "python",
   "name": "python3"
  },
  "language_info": {
   "codemirror_mode": {
    "name": "ipython",
    "version": 3
   },
   "file_extension": ".py",
   "mimetype": "text/x-python",
   "name": "python",
   "nbconvert_exporter": "python",
   "pygments_lexer": "ipython3",
   "version": "3.11.0"
  }
 },
 "nbformat": 4,
 "nbformat_minor": 2
}
